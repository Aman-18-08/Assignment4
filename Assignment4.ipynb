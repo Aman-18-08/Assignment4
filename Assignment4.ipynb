{
  "nbformat": 4,
  "nbformat_minor": 0,
  "metadata": {
    "colab": {
      "provenance": []
    },
    "kernelspec": {
      "name": "python3",
      "display_name": "Python 3"
    },
    "language_info": {
      "name": "python"
    }
  },
  "cells": [
    {
      "cell_type": "markdown",
      "source": [
        "*Assignment Questions*"
      ],
      "metadata": {
        "id": "lu07m13YUNqd"
      }
    },
    {
      "cell_type": "markdown",
      "source": [
        "Q1. What is Object-Oriented Programming (OOP)?\n",
        "\n",
        "*  Object-oriented programming (OOP) in Python is a programming paradigm centered around the concept of \"objects,\" which are instances of \"classes.\" Classes serve as blueprints for creating objects, defining their attributes (data) and methods (functions).\n",
        "\n"
      ],
      "metadata": {
        "id": "Fyg_bpxnOIiZ"
      }
    },
    {
      "cell_type": "markdown",
      "source": [
        "Q2. What is a class in OOP?\n",
        "*  A class in Python, within the context of object-oriented programming (OOP), serves as a blueprint for creating objects. It encapsulates data (attributes) and behavior (methods) into a single unit. Classes define the structure and functionality that objects of that class will possess."
      ],
      "metadata": {
        "id": "DHZJmjSDOoHE"
      }
    },
    {
      "cell_type": "markdown",
      "source": [
        "Q3. What is an object in OOP?\n",
        "*  In Python, an object is a fundamental concept in object-oriented programming (OOP). It is an instance of a class, which is a blueprint for creating objects. Objects encapsulate data (attributes) and behavior (methods) into a single unit."
      ],
      "metadata": {
        "id": "rvLioqPgO5A9"
      }
    },
    {
      "cell_type": "markdown",
      "source": [
        "Q4. What is the difference between abstraction and encapsulation?\n",
        "*  Encapsulation and abstraction are both important concepts in object-oriented programming, but they address different aspects of code organization and complexity. Abstraction focuses on hiding complex implementation details and presenting a simplified view to the user, while encapsulation bundles data and methods within a class and controls access to them."
      ],
      "metadata": {
        "id": "x7jXaDYnPFeH"
      }
    },
    {
      "cell_type": "markdown",
      "source": [
        "Q5. What are dunder methods in Python?\n",
        "*  Dunder methods, also known as magic methods, are special methods in Python that begin and end with double underscores (e.g., __init__, __str__, __len__). They allow classes to define how they interact with built-in functions and operators. These methods provide a way to implement operator overloading and customize object behavior."
      ],
      "metadata": {
        "id": "i8nUf7JHPUzN"
      }
    },
    {
      "cell_type": "markdown",
      "source": [
        "Q6.  Explain the concept of inheritance in OOP.\n",
        "*  Inheritance in object-oriented programming is a mechanism where a new class (subclass or child class) can inherit properties and methods from an existing class (superclass or parent class). This enables code reuse and creates a hierarchical relationship between classes, where subclasses can extend or modify the behavior of their parent class."
      ],
      "metadata": {
        "id": "ceyEnaSMPhUD"
      }
    },
    {
      "cell_type": "markdown",
      "source": [
        "Q7. What is polymorphism in OOP?\n",
        "*  In Object-Oriented Programming (OOP), polymorphism allows objects of different classes to be treated as objects of a common type, enabling flexible and reusable code. It essentially means \"many forms,\" allowing the same method name to be used for different actions depending on the object type. This is achieved through techniques like inheritance and method overriding, allowing subclasses to provide their own specialized implementations of inherited methods.\n"
      ],
      "metadata": {
        "id": "5oxUeScOPswH"
      }
    },
    {
      "cell_type": "markdown",
      "source": [
        "Q8. How is encapsulation achieved in Python?\n",
        "*  Encapsulation in Python is achieved by restricting access to attributes and methods within a class, preventing external modification or direct access. It is implemented using naming conventions, specifically by prefixing attributes with underscores."
      ],
      "metadata": {
        "id": "dsAZkqw_P62G"
      }
    },
    {
      "cell_type": "markdown",
      "source": [
        "Q9. What is a constructor in Python?\n",
        "*  A constructor in Python is a special method used to initialize objects of a class. It is automatically called when an object of the class is created. The constructor's main purpose is to set up the initial state of the object by assigning values to its attributes. In Python, the constructor is named __init__."
      ],
      "metadata": {
        "id": "lcH3_fN1QJa_"
      }
    },
    {
      "cell_type": "markdown",
      "source": [
        "Q10. What are class and static methods in Python?\n",
        "*  Class methods are defined using the @classmethod decorator. They receive the class itself as the first argument, conventionally named cls. Class methods can access and modify class-level attributes and are often used as factory methods or for operations that pertain to the class as a whole.\n",
        "*  Static methods are defined using the @staticmethod decorator. They do not receive any implicit arguments (neither the instance nor the class) and behave like regular functions, but are logically grouped within the class. Static methods are used for utility functions that do not depend on the state of the instance or the class."
      ],
      "metadata": {
        "id": "KjG68CnEQbF_"
      }
    },
    {
      "cell_type": "markdown",
      "source": [
        "Q11. What is method overloading in Python?\n",
        "*  Method overloading in Python refers to the possibility of defining multiple methods with the same name within a class, but with different parameters. However, Python does not support traditional method overloading like some other languages (e.g., Java, C++). In Python, if you define multiple methods with the same name, the last definition will override any previous definitions."
      ],
      "metadata": {
        "id": "b0KT26uKQrGw"
      }
    },
    {
      "cell_type": "markdown",
      "source": [
        "Q12. What is method overriding in OOP?\n",
        "*  In Object-Oriented Programming (OOP), method overriding allows a subclass to provide a specific implementation of a method that is already defined in its superclass. This enables the subclass to modify or extend the behavior of the inherited method while maintaining the same method signature (name, parameters, and return type)."
      ],
      "metadata": {
        "id": "Kb5T0sy3Q2pd"
      }
    },
    {
      "cell_type": "markdown",
      "source": [
        "Q13. What is a property decorator in Python?\n",
        "*  In Python, a property decorator is a way to manage class attributes with more control. It allows defining special methods (getter, setter, and deleter) that are executed when an attribute is accessed, modified, or deleted, respectively. This mechanism provides a way to encapsulate attribute logic and prevent direct access to the underlying data."
      ],
      "metadata": {
        "id": "BCcON_e5RFSl"
      }
    },
    {
      "cell_type": "markdown",
      "source": [
        "Q14. Why is polymorphism important in OOP?\n",
        "*  Polymorphism is crucial in Object-Oriented Programming (OOP) because it enables objects of different classes to be treated as objects of a common type, promoting code reusability, flexibility, and maintainability. It allows for a single interface to be used for different operations, while each class can implement it in its own specific way."
      ],
      "metadata": {
        "id": "4cUDWKl1ROub"
      }
    },
    {
      "cell_type": "markdown",
      "source": [
        "Q15. What is an abstract class in Python?\n",
        "*  An abstract class in Python is a class that cannot be instantiated directly and serves as a blueprint for other classes. It defines methods that subclasses must implement, ensuring a consistent interface. Abstract classes are created using the abc module and the @abstractmethod decorator. They are useful for enforcing a specific structure and behavior in a group of related classes."
      ],
      "metadata": {
        "id": "L9ia2SRaRXHv"
      }
    },
    {
      "cell_type": "markdown",
      "source": [
        "Q16. What are the advantages of OOP?\n",
        "*  Object-Oriented Programming (OOP) offers several advantages, primarily enhancing code organization, reusability, and maintainability. Key benefits include modularity, code reuse through inheritance, flexibility with polymorphism, and simplified problem-solving. These advantages make OOP particularly useful for developing large, complex software systems."
      ],
      "metadata": {
        "id": "x6xlPOcZRhF4"
      }
    },
    {
      "cell_type": "markdown",
      "source": [
        "Q17. What is the difference between a class variable and an instance variable?\n",
        "*  The key difference between a class variable (also known as a static variable) and an instance variable is their scope and how they are shared. Class variables are shared across all instances of a class, meaning they have only one copy regardless of how many objects are created from that class. Instance variables, on the other hand, are unique to each instance of the class, with each object having its own separate copy."
      ],
      "metadata": {
        "id": "yvh_5kNYRu80"
      }
    },
    {
      "cell_type": "markdown",
      "source": [
        "Q18. What is multiple inheritance in Python?\n",
        "*  Multiple inheritance in Python is a feature that allows a class to inherit attributes and methods from more than one parent class. This enables a class to combine functionalities from different sources, promoting code reuse and flexibility. However, it can also introduce complexity and potential ambiguity, especially in cases where parent classes have methods with the same name."
      ],
      "metadata": {
        "id": "Sx5j6OPZR4Uo"
      }
    },
    {
      "cell_type": "markdown",
      "source": [
        "Q19. Explain the purpose of ‘’__str__’ and ‘__repr__’ ‘ methods in Python.\n",
        "*  __str__(self): This method is intended to return a human-readable string representation of the object. It's called by the str() function and implicitly when using print() on an object. The goal of __str__ is to provide a user-friendly output that is easy to understand.\n",
        "*  __repr__(self): This method is intended to return an unambiguous string representation of the object, often one that could be used to recreate the object. It's called by the repr() function and in the interactive interpreter when an object is evaluated. The goal of __repr__ is to provide information that is useful for debugging and development.\n"
      ],
      "metadata": {
        "id": "ul7KMr4ZSFyQ"
      }
    },
    {
      "cell_type": "markdown",
      "source": [
        "Q20. What is the significance of the ‘super()’ function in Python?\n",
        "*  The super() function in Python is used to call methods from a parent class within a child class. It plays a crucial role in inheritance, especially in scenarios involving method overriding and multiple inheritance. The super() function returns a temporary object of the parent class, allowing access to its methods.\n"
      ],
      "metadata": {
        "id": "AMqkDMVUS58G"
      }
    },
    {
      "cell_type": "markdown",
      "source": [
        "Q21. What is the significance of the __del__ method in Python?\n",
        "*  The __del__ method in Python, also known as a destructor, defines actions to be performed when an object is garbage collected. It is called automatically when all references to an object have been deleted, allowing for resource cleanup like closing files or releasing external connections. However, relying on __del__ for critical operations is discouraged due to the unpredictable timing of garbage collection. It's best practice to manage resources explicitly using try...finally blocks or context managers.\n"
      ],
      "metadata": {
        "id": "UuAowYVlTF8b"
      }
    },
    {
      "cell_type": "markdown",
      "source": [
        "Q22. What is the difference between @staticmethod and @classmethod in Python?\n",
        "*  @staticmethod:\n",
        "This decorator defines a method that is independent of both the class and its instances. It's essentially a regular function that's placed within the class's scope for organizational purposes. It doesn't receive any implicit arguments (like self or cls). Thus, it cannot access or modify the class or instance state.\n",
        "*  @classmethod:\n",
        "This decorator defines a method that's bound to the class, not the instance. It receives the class itself as the first argument (conventionally named cls). This allows it to access and modify class-level attributes, create instances of the class, or interact with the class in other ways. It cannot directly access instance-specific attributes."
      ],
      "metadata": {
        "id": "3Nv3uyg8TZsG"
      }
    },
    {
      "cell_type": "markdown",
      "source": [
        "Q23. How does polymorphism work in Python with inheritance?\n",
        "*  Polymorphism, meaning \"many forms,\" enables objects of different classes to respond to the same method call in their own specific ways. When combined with inheritance in Python, it allows a child class to redefine a method inherited from its parent class, a process called method overriding. This creates a hierarchy where methods can have different implementations depending on the object's actual class, even if they are called using the same name."
      ],
      "metadata": {
        "id": "iaZBTQfzTlbc"
      }
    },
    {
      "cell_type": "markdown",
      "source": [
        "Q24. What is method chaining in Python OOP?\n",
        "*  Method chaining in Python is a programming technique used in object-oriented programming (OOP) that allows multiple methods to be called sequentially on the same object in a single line of code. This is achieved by having each method return the object instance (self) after it completes its operation."
      ],
      "metadata": {
        "id": "onzOR5VjT5Gf"
      }
    },
    {
      "cell_type": "markdown",
      "source": [
        "Q25. What is the purpose of the __call__ method in Python?\n",
        "*  The __call__ method in Python enables instances of a class to be called like regular functions. When a class defines the __call__ method, it makes its instances \"callable.\" This means you can use parentheses () on an object of that class, just as you would with a function. The __call__ method then determines how the object behaves when it is \"called.\""
      ],
      "metadata": {
        "id": "lUNyI4gxUCT0"
      }
    },
    {
      "cell_type": "markdown",
      "source": [
        "*Practical Questions*"
      ],
      "metadata": {
        "id": "dMD24NnJUaIA"
      }
    },
    {
      "cell_type": "code",
      "source": [
        "#Q1. Create a parent class Animal with a method speak() that prints a generic message. Create a child class Dog that overrides the speak() method to print \"Bark!\".\n",
        "\n",
        "class Animal:\n",
        "    def speak(self):\n",
        "        print(\"Generic animal sound\")\n",
        "\n",
        "class Dog(Animal):\n",
        "    def speak(self):\n",
        "        print(\"Bark!\")"
      ],
      "metadata": {
        "id": "lUJ3ys2bUpnZ"
      },
      "execution_count": 1,
      "outputs": []
    },
    {
      "cell_type": "code",
      "source": [
        "dog = Dog()\n",
        "dog.speak()"
      ],
      "metadata": {
        "colab": {
          "base_uri": "https://localhost:8080/"
        },
        "id": "VP3r_qFlVh1p",
        "outputId": "d1cb5673-4db6-47da-e59c-f99964813bf5"
      },
      "execution_count": 2,
      "outputs": [
        {
          "output_type": "stream",
          "name": "stdout",
          "text": [
            "Bark!\n"
          ]
        }
      ]
    },
    {
      "cell_type": "code",
      "source": [
        "#Q2. Write a program to create an abstract class Shape with a method area(). Derive classes Circle and Rectangle from it and implement the area() method in both.\n",
        "\n",
        "from abc import ABC, abstractmethod\n",
        "\n",
        "class Shape(ABC):\n",
        "    @abstractmethod\n",
        "    def area(self):\n",
        "        pass\n",
        "\n",
        "class Circle(Shape):\n",
        "    def __init__(self, radius):\n",
        "        self.radius = radius\n",
        "\n",
        "    def area(self):\n",
        "        return 3.14 * self.radius * self.radius\n",
        "\n",
        "class Rectangle(Shape):\n",
        "    def __init__(self, length, width):\n",
        "        self.length = length\n",
        "        self.width = width\n",
        "\n",
        "    def area(self):\n",
        "        return self.length * self.width\n",
        "\n"
      ],
      "metadata": {
        "id": "MOa5RguIVnqe"
      },
      "execution_count": 4,
      "outputs": []
    },
    {
      "cell_type": "code",
      "source": [
        "circle = Circle(5)\n",
        "rectangle = Rectangle(4, 6)\n",
        "\n",
        "print(\"Circle Area:\", circle.area())\n",
        "print(\"Rectangle Area:\", rectangle.area())"
      ],
      "metadata": {
        "colab": {
          "base_uri": "https://localhost:8080/"
        },
        "id": "FzcKkASdWfCH",
        "outputId": "171cc58f-b9a9-4471-9a11-76bb3db2705d"
      },
      "execution_count": 5,
      "outputs": [
        {
          "output_type": "stream",
          "name": "stdout",
          "text": [
            "Circle Area: 78.5\n",
            "Rectangle Area: 24\n"
          ]
        }
      ]
    },
    {
      "cell_type": "code",
      "source": [
        "# Q3. Implement a multi-level inheritance scenario where a class Vehicle has an attribute type. Derive a class Car and further derive a class ElectricCar that adds a battery attribute.\n",
        "\n",
        "class Vehicle:\n",
        "    def __init__(self, vehicle_type):\n",
        "        self.type = vehicle_type\n",
        "\n",
        "class Car(Vehicle):\n",
        "    def __init__(self, car_type):\n",
        "        super().__init__(\"Car\")\n",
        "        self.car_type = car_type\n",
        "\n",
        "class ElectricCar(Car):\n",
        "    def __init__(self, car_type, battery_capacity):\n",
        "        super().__init__(car_type)\n",
        "        self.battery_capacity = battery_capacity\n",
        ""
      ],
      "metadata": {
        "id": "KlQxzD0HWl8p"
      },
      "execution_count": 6,
      "outputs": []
    },
    {
      "cell_type": "code",
      "source": [
        "my_car = ElectricCar(\"Sedan\", 75)\n",
        "print(my_car.type)\n",
        "print(my_car.car_type)\n",
        "print(my_car.battery_capacity)"
      ],
      "metadata": {
        "colab": {
          "base_uri": "https://localhost:8080/"
        },
        "id": "hTWPZSTLXNGA",
        "outputId": "8a43ac07-30df-4fee-c42d-903676b1386e"
      },
      "execution_count": 7,
      "outputs": [
        {
          "output_type": "stream",
          "name": "stdout",
          "text": [
            "Car\n",
            "Sedan\n",
            "75\n"
          ]
        }
      ]
    },
    {
      "cell_type": "code",
      "source": [],
      "metadata": {
        "id": "6oXX-Pa-XWPs"
      },
      "execution_count": null,
      "outputs": []
    }
  ]
}